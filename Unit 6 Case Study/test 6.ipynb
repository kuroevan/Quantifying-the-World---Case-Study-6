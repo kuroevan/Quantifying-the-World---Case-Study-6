{
 "cells": [
  {
   "cell_type": "code",
   "execution_count": 2,
   "metadata": {},
   "outputs": [
    {
     "data": {
      "text/html": [
       "5312"
      ],
      "text/latex": [
       "5312"
      ],
      "text/markdown": [
       "5312"
      ],
      "text/plain": [
       "[1] 5312"
      ]
     },
     "metadata": {},
     "output_type": "display_data"
    },
    {
     "data": {
      "text/html": [
       "151392"
      ],
      "text/latex": [
       "151392"
      ],
      "text/markdown": [
       "151392"
      ],
      "text/plain": [
       "[1] 151392"
      ]
     },
     "metadata": {},
     "output_type": "display_data"
    }
   ],
   "source": [
    "txt = readLines(\"Data/offline.final.trace.txt\")\n",
    "sum(substr(txt, 1, 1) == \"#\")\n",
    "length(txt)"
   ]
  },
  {
   "cell_type": "code",
   "execution_count": 3,
   "metadata": {},
   "outputs": [
    {
     "data": {
      "text/html": [
       "<ol class=list-inline>\n",
       "\t<li>'t=1139643118358'</li>\n",
       "\t<li>'id=00:02:2D:21:0F:33'</li>\n",
       "\t<li>'pos=0.0,0.0,0.0'</li>\n",
       "\t<li>'degree=0.0'</li>\n",
       "\t<li>'00:14:bf:b1:97:8a=-38,2437000000,3'</li>\n",
       "\t<li>'00:14:bf:b1:97:90=-56,2427000000,3'</li>\n",
       "\t<li>'00:0f:a3:39:e1:c0=-53,2462000000,3'</li>\n",
       "\t<li>'00:14:bf:b1:97:8d=-65,2442000000,3'</li>\n",
       "\t<li>'00:14:bf:b1:97:81=-65,2422000000,3'</li>\n",
       "\t<li>'00:14:bf:3b:c7:c6=-66,2432000000,3'</li>\n",
       "\t<li>'00:0f:a3:39:dd:cd=-75,2412000000,3'</li>\n",
       "\t<li>'00:0f:a3:39:e0:4b=-78,2462000000,3'</li>\n",
       "\t<li>'00:0f:a3:39:e2:10=-87,2437000000,3'</li>\n",
       "\t<li>'02:64:fb:68:52:e6=-88,2447000000,1'</li>\n",
       "\t<li>'02:00:42:55:31:00=-84,2457000000,1'</li>\n",
       "</ol>\n"
      ],
      "text/latex": [
       "\\begin{enumerate*}\n",
       "\\item 't=1139643118358'\n",
       "\\item 'id=00:02:2D:21:0F:33'\n",
       "\\item 'pos=0.0,0.0,0.0'\n",
       "\\item 'degree=0.0'\n",
       "\\item '00:14:bf:b1:97:8a=-38,2437000000,3'\n",
       "\\item '00:14:bf:b1:97:90=-56,2427000000,3'\n",
       "\\item '00:0f:a3:39:e1:c0=-53,2462000000,3'\n",
       "\\item '00:14:bf:b1:97:8d=-65,2442000000,3'\n",
       "\\item '00:14:bf:b1:97:81=-65,2422000000,3'\n",
       "\\item '00:14:bf:3b:c7:c6=-66,2432000000,3'\n",
       "\\item '00:0f:a3:39:dd:cd=-75,2412000000,3'\n",
       "\\item '00:0f:a3:39:e0:4b=-78,2462000000,3'\n",
       "\\item '00:0f:a3:39:e2:10=-87,2437000000,3'\n",
       "\\item '02:64:fb:68:52:e6=-88,2447000000,1'\n",
       "\\item '02:00:42:55:31:00=-84,2457000000,1'\n",
       "\\end{enumerate*}\n"
      ],
      "text/markdown": [
       "1. 't=1139643118358'\n",
       "2. 'id=00:02:2D:21:0F:33'\n",
       "3. 'pos=0.0,0.0,0.0'\n",
       "4. 'degree=0.0'\n",
       "5. '00:14:bf:b1:97:8a=-38,2437000000,3'\n",
       "6. '00:14:bf:b1:97:90=-56,2427000000,3'\n",
       "7. '00:0f:a3:39:e1:c0=-53,2462000000,3'\n",
       "8. '00:14:bf:b1:97:8d=-65,2442000000,3'\n",
       "9. '00:14:bf:b1:97:81=-65,2422000000,3'\n",
       "10. '00:14:bf:3b:c7:c6=-66,2432000000,3'\n",
       "11. '00:0f:a3:39:dd:cd=-75,2412000000,3'\n",
       "12. '00:0f:a3:39:e0:4b=-78,2462000000,3'\n",
       "13. '00:0f:a3:39:e2:10=-87,2437000000,3'\n",
       "14. '02:64:fb:68:52:e6=-88,2447000000,1'\n",
       "15. '02:00:42:55:31:00=-84,2457000000,1'\n",
       "\n",
       "\n"
      ],
      "text/plain": [
       " [1] \"t=1139643118358\"                    \"id=00:02:2D:21:0F:33\"              \n",
       " [3] \"pos=0.0,0.0,0.0\"                    \"degree=0.0\"                        \n",
       " [5] \"00:14:bf:b1:97:8a=-38,2437000000,3\" \"00:14:bf:b1:97:90=-56,2427000000,3\"\n",
       " [7] \"00:0f:a3:39:e1:c0=-53,2462000000,3\" \"00:14:bf:b1:97:8d=-65,2442000000,3\"\n",
       " [9] \"00:14:bf:b1:97:81=-65,2422000000,3\" \"00:14:bf:3b:c7:c6=-66,2432000000,3\"\n",
       "[11] \"00:0f:a3:39:dd:cd=-75,2412000000,3\" \"00:0f:a3:39:e0:4b=-78,2462000000,3\"\n",
       "[13] \"00:0f:a3:39:e2:10=-87,2437000000,3\" \"02:64:fb:68:52:e6=-88,2447000000,1\"\n",
       "[15] \"02:00:42:55:31:00=-84,2457000000,1\""
      ]
     },
     "metadata": {},
     "output_type": "display_data"
    },
    {
     "data": {
      "text/html": [
       "<dl class=dl-horizontal>\n",
       "\t<dt>t</dt>\n",
       "\t\t<dd>'t'</dd>\n",
       "\t<dt>1139643118358</dt>\n",
       "\t\t<dd>'1139643118358'</dd>\n",
       "\t<dt>id</dt>\n",
       "\t\t<dd>'id'</dd>\n",
       "\t<dt>00:02:2D:21:0F:33</dt>\n",
       "\t\t<dd>'00:02:2D:21:0F:33'</dd>\n",
       "\t<dt>pos</dt>\n",
       "\t\t<dd>'pos'</dd>\n",
       "\t<dt>0.0,0.0,0.01</dt>\n",
       "\t\t<dd>'0.0'</dd>\n",
       "\t<dt>0.0,0.0,0.02</dt>\n",
       "\t\t<dd>'0.0'</dd>\n",
       "\t<dt>0.0,0.0,0.03</dt>\n",
       "\t\t<dd>'0.0'</dd>\n",
       "\t<dt>degree</dt>\n",
       "\t\t<dd>'degree'</dd>\n",
       "\t<dt>0.0</dt>\n",
       "\t\t<dd>'0.0'</dd>\n",
       "\t<dt>00:14:bf:b1:97:8a</dt>\n",
       "\t\t<dd>'00:14:bf:b1:97:8a'</dd>\n",
       "\t<dt>-38,2437000000,31</dt>\n",
       "\t\t<dd>'-38'</dd>\n",
       "\t<dt>-38,2437000000,32</dt>\n",
       "\t\t<dd>'2437000000'</dd>\n",
       "\t<dt>-38,2437000000,33</dt>\n",
       "\t\t<dd>'3'</dd>\n",
       "\t<dt>00:14:bf:b1:97:90</dt>\n",
       "\t\t<dd>'00:14:bf:b1:97:90'</dd>\n",
       "\t<dt>-56,2427000000,31</dt>\n",
       "\t\t<dd>'-56'</dd>\n",
       "\t<dt>-56,2427000000,32</dt>\n",
       "\t\t<dd>'2427000000'</dd>\n",
       "\t<dt>-56,2427000000,33</dt>\n",
       "\t\t<dd>'3'</dd>\n",
       "\t<dt>00:0f:a3:39:e1:c0</dt>\n",
       "\t\t<dd>'00:0f:a3:39:e1:c0'</dd>\n",
       "\t<dt>-53,2462000000,31</dt>\n",
       "\t\t<dd>'-53'</dd>\n",
       "\t<dt>-53,2462000000,32</dt>\n",
       "\t\t<dd>'2462000000'</dd>\n",
       "\t<dt>-53,2462000000,33</dt>\n",
       "\t\t<dd>'3'</dd>\n",
       "\t<dt>00:14:bf:b1:97:8d</dt>\n",
       "\t\t<dd>'00:14:bf:b1:97:8d'</dd>\n",
       "\t<dt>-65,2442000000,31</dt>\n",
       "\t\t<dd>'-65'</dd>\n",
       "\t<dt>-65,2442000000,32</dt>\n",
       "\t\t<dd>'2442000000'</dd>\n",
       "\t<dt>-65,2442000000,33</dt>\n",
       "\t\t<dd>'3'</dd>\n",
       "\t<dt>00:14:bf:b1:97:81</dt>\n",
       "\t\t<dd>'00:14:bf:b1:97:81'</dd>\n",
       "\t<dt>-65,2422000000,31</dt>\n",
       "\t\t<dd>'-65'</dd>\n",
       "\t<dt>-65,2422000000,32</dt>\n",
       "\t\t<dd>'2422000000'</dd>\n",
       "\t<dt>-65,2422000000,33</dt>\n",
       "\t\t<dd>'3'</dd>\n",
       "\t<dt>00:14:bf:3b:c7:c6</dt>\n",
       "\t\t<dd>'00:14:bf:3b:c7:c6'</dd>\n",
       "\t<dt>-66,2432000000,31</dt>\n",
       "\t\t<dd>'-66'</dd>\n",
       "\t<dt>-66,2432000000,32</dt>\n",
       "\t\t<dd>'2432000000'</dd>\n",
       "\t<dt>-66,2432000000,33</dt>\n",
       "\t\t<dd>'3'</dd>\n",
       "\t<dt>00:0f:a3:39:dd:cd</dt>\n",
       "\t\t<dd>'00:0f:a3:39:dd:cd'</dd>\n",
       "\t<dt>-75,2412000000,31</dt>\n",
       "\t\t<dd>'-75'</dd>\n",
       "\t<dt>-75,2412000000,32</dt>\n",
       "\t\t<dd>'2412000000'</dd>\n",
       "\t<dt>-75,2412000000,33</dt>\n",
       "\t\t<dd>'3'</dd>\n",
       "\t<dt>00:0f:a3:39:e0:4b</dt>\n",
       "\t\t<dd>'00:0f:a3:39:e0:4b'</dd>\n",
       "\t<dt>-78,2462000000,31</dt>\n",
       "\t\t<dd>'-78'</dd>\n",
       "\t<dt>-78,2462000000,32</dt>\n",
       "\t\t<dd>'2462000000'</dd>\n",
       "\t<dt>-78,2462000000,33</dt>\n",
       "\t\t<dd>'3'</dd>\n",
       "\t<dt>00:0f:a3:39:e2:10</dt>\n",
       "\t\t<dd>'00:0f:a3:39:e2:10'</dd>\n",
       "\t<dt>-87,2437000000,31</dt>\n",
       "\t\t<dd>'-87'</dd>\n",
       "\t<dt>-87,2437000000,32</dt>\n",
       "\t\t<dd>'2437000000'</dd>\n",
       "\t<dt>-87,2437000000,33</dt>\n",
       "\t\t<dd>'3'</dd>\n",
       "\t<dt>02:64:fb:68:52:e6</dt>\n",
       "\t\t<dd>'02:64:fb:68:52:e6'</dd>\n",
       "\t<dt>-88,2447000000,11</dt>\n",
       "\t\t<dd>'-88'</dd>\n",
       "\t<dt>-88,2447000000,12</dt>\n",
       "\t\t<dd>'2447000000'</dd>\n",
       "\t<dt>-88,2447000000,13</dt>\n",
       "\t\t<dd>'1'</dd>\n",
       "\t<dt>02:00:42:55:31:00</dt>\n",
       "\t\t<dd>'02:00:42:55:31:00'</dd>\n",
       "\t<dt>-84,2457000000,11</dt>\n",
       "\t\t<dd>'-84'</dd>\n",
       "\t<dt>-84,2457000000,12</dt>\n",
       "\t\t<dd>'2457000000'</dd>\n",
       "\t<dt>-84,2457000000,13</dt>\n",
       "\t\t<dd>'1'</dd>\n",
       "</dl>\n"
      ],
      "text/latex": [
       "\\begin{description*}\n",
       "\\item[t] 't'\n",
       "\\item[1139643118358] '1139643118358'\n",
       "\\item[id] 'id'\n",
       "\\item[00:02:2D:21:0F:33] '00:02:2D:21:0F:33'\n",
       "\\item[pos] 'pos'\n",
       "\\item[0.0,0.0,0.01] '0.0'\n",
       "\\item[0.0,0.0,0.02] '0.0'\n",
       "\\item[0.0,0.0,0.03] '0.0'\n",
       "\\item[degree] 'degree'\n",
       "\\item[0.0] '0.0'\n",
       "\\item[00:14:bf:b1:97:8a] '00:14:bf:b1:97:8a'\n",
       "\\item[-38,2437000000,31] '-38'\n",
       "\\item[-38,2437000000,32] '2437000000'\n",
       "\\item[-38,2437000000,33] '3'\n",
       "\\item[00:14:bf:b1:97:90] '00:14:bf:b1:97:90'\n",
       "\\item[-56,2427000000,31] '-56'\n",
       "\\item[-56,2427000000,32] '2427000000'\n",
       "\\item[-56,2427000000,33] '3'\n",
       "\\item[00:0f:a3:39:e1:c0] '00:0f:a3:39:e1:c0'\n",
       "\\item[-53,2462000000,31] '-53'\n",
       "\\item[-53,2462000000,32] '2462000000'\n",
       "\\item[-53,2462000000,33] '3'\n",
       "\\item[00:14:bf:b1:97:8d] '00:14:bf:b1:97:8d'\n",
       "\\item[-65,2442000000,31] '-65'\n",
       "\\item[-65,2442000000,32] '2442000000'\n",
       "\\item[-65,2442000000,33] '3'\n",
       "\\item[00:14:bf:b1:97:81] '00:14:bf:b1:97:81'\n",
       "\\item[-65,2422000000,31] '-65'\n",
       "\\item[-65,2422000000,32] '2422000000'\n",
       "\\item[-65,2422000000,33] '3'\n",
       "\\item[00:14:bf:3b:c7:c6] '00:14:bf:3b:c7:c6'\n",
       "\\item[-66,2432000000,31] '-66'\n",
       "\\item[-66,2432000000,32] '2432000000'\n",
       "\\item[-66,2432000000,33] '3'\n",
       "\\item[00:0f:a3:39:dd:cd] '00:0f:a3:39:dd:cd'\n",
       "\\item[-75,2412000000,31] '-75'\n",
       "\\item[-75,2412000000,32] '2412000000'\n",
       "\\item[-75,2412000000,33] '3'\n",
       "\\item[00:0f:a3:39:e0:4b] '00:0f:a3:39:e0:4b'\n",
       "\\item[-78,2462000000,31] '-78'\n",
       "\\item[-78,2462000000,32] '2462000000'\n",
       "\\item[-78,2462000000,33] '3'\n",
       "\\item[00:0f:a3:39:e2:10] '00:0f:a3:39:e2:10'\n",
       "\\item[-87,2437000000,31] '-87'\n",
       "\\item[-87,2437000000,32] '2437000000'\n",
       "\\item[-87,2437000000,33] '3'\n",
       "\\item[02:64:fb:68:52:e6] '02:64:fb:68:52:e6'\n",
       "\\item[-88,2447000000,11] '-88'\n",
       "\\item[-88,2447000000,12] '2447000000'\n",
       "\\item[-88,2447000000,13] '1'\n",
       "\\item[02:00:42:55:31:00] '02:00:42:55:31:00'\n",
       "\\item[-84,2457000000,11] '-84'\n",
       "\\item[-84,2457000000,12] '2457000000'\n",
       "\\item[-84,2457000000,13] '1'\n",
       "\\end{description*}\n"
      ],
      "text/markdown": [
       "t\n",
       ":   't'1139643118358\n",
       ":   '1139643118358'id\n",
       ":   'id'00:02:2D:21:0F:33\n",
       ":   '00:02:2D:21:0F:33'pos\n",
       ":   'pos'0.0,0.0,0.01\n",
       ":   '0.0'0.0,0.0,0.02\n",
       ":   '0.0'0.0,0.0,0.03\n",
       ":   '0.0'degree\n",
       ":   'degree'0.0\n",
       ":   '0.0'00:14:bf:b1:97:8a\n",
       ":   '00:14:bf:b1:97:8a'-38,2437000000,31\n",
       ":   '-38'-38,2437000000,32\n",
       ":   '2437000000'-38,2437000000,33\n",
       ":   '3'00:14:bf:b1:97:90\n",
       ":   '00:14:bf:b1:97:90'-56,2427000000,31\n",
       ":   '-56'-56,2427000000,32\n",
       ":   '2427000000'-56,2427000000,33\n",
       ":   '3'00:0f:a3:39:e1:c0\n",
       ":   '00:0f:a3:39:e1:c0'-53,2462000000,31\n",
       ":   '-53'-53,2462000000,32\n",
       ":   '2462000000'-53,2462000000,33\n",
       ":   '3'00:14:bf:b1:97:8d\n",
       ":   '00:14:bf:b1:97:8d'-65,2442000000,31\n",
       ":   '-65'-65,2442000000,32\n",
       ":   '2442000000'-65,2442000000,33\n",
       ":   '3'00:14:bf:b1:97:81\n",
       ":   '00:14:bf:b1:97:81'-65,2422000000,31\n",
       ":   '-65'-65,2422000000,32\n",
       ":   '2422000000'-65,2422000000,33\n",
       ":   '3'00:14:bf:3b:c7:c6\n",
       ":   '00:14:bf:3b:c7:c6'-66,2432000000,31\n",
       ":   '-66'-66,2432000000,32\n",
       ":   '2432000000'-66,2432000000,33\n",
       ":   '3'00:0f:a3:39:dd:cd\n",
       ":   '00:0f:a3:39:dd:cd'-75,2412000000,31\n",
       ":   '-75'-75,2412000000,32\n",
       ":   '2412000000'-75,2412000000,33\n",
       ":   '3'00:0f:a3:39:e0:4b\n",
       ":   '00:0f:a3:39:e0:4b'-78,2462000000,31\n",
       ":   '-78'-78,2462000000,32\n",
       ":   '2462000000'-78,2462000000,33\n",
       ":   '3'00:0f:a3:39:e2:10\n",
       ":   '00:0f:a3:39:e2:10'-87,2437000000,31\n",
       ":   '-87'-87,2437000000,32\n",
       ":   '2437000000'-87,2437000000,33\n",
       ":   '3'02:64:fb:68:52:e6\n",
       ":   '02:64:fb:68:52:e6'-88,2447000000,11\n",
       ":   '-88'-88,2447000000,12\n",
       ":   '2447000000'-88,2447000000,13\n",
       ":   '1'02:00:42:55:31:00\n",
       ":   '02:00:42:55:31:00'-84,2457000000,11\n",
       ":   '-84'-84,2457000000,12\n",
       ":   '2457000000'-84,2457000000,13\n",
       ":   '1'\n",
       "\n"
      ],
      "text/plain": [
       "                  t       1139643118358                  id   00:02:2D:21:0F:33 \n",
       "                \"t\"     \"1139643118358\"                \"id\" \"00:02:2D:21:0F:33\" \n",
       "                pos        0.0,0.0,0.01        0.0,0.0,0.02        0.0,0.0,0.03 \n",
       "              \"pos\"               \"0.0\"               \"0.0\"               \"0.0\" \n",
       "             degree                 0.0   00:14:bf:b1:97:8a   -38,2437000000,31 \n",
       "           \"degree\"               \"0.0\" \"00:14:bf:b1:97:8a\"               \"-38\" \n",
       "  -38,2437000000,32   -38,2437000000,33   00:14:bf:b1:97:90   -56,2427000000,31 \n",
       "       \"2437000000\"                 \"3\" \"00:14:bf:b1:97:90\"               \"-56\" \n",
       "  -56,2427000000,32   -56,2427000000,33   00:0f:a3:39:e1:c0   -53,2462000000,31 \n",
       "       \"2427000000\"                 \"3\" \"00:0f:a3:39:e1:c0\"               \"-53\" \n",
       "  -53,2462000000,32   -53,2462000000,33   00:14:bf:b1:97:8d   -65,2442000000,31 \n",
       "       \"2462000000\"                 \"3\" \"00:14:bf:b1:97:8d\"               \"-65\" \n",
       "  -65,2442000000,32   -65,2442000000,33   00:14:bf:b1:97:81   -65,2422000000,31 \n",
       "       \"2442000000\"                 \"3\" \"00:14:bf:b1:97:81\"               \"-65\" \n",
       "  -65,2422000000,32   -65,2422000000,33   00:14:bf:3b:c7:c6   -66,2432000000,31 \n",
       "       \"2422000000\"                 \"3\" \"00:14:bf:3b:c7:c6\"               \"-66\" \n",
       "  -66,2432000000,32   -66,2432000000,33   00:0f:a3:39:dd:cd   -75,2412000000,31 \n",
       "       \"2432000000\"                 \"3\" \"00:0f:a3:39:dd:cd\"               \"-75\" \n",
       "  -75,2412000000,32   -75,2412000000,33   00:0f:a3:39:e0:4b   -78,2462000000,31 \n",
       "       \"2412000000\"                 \"3\" \"00:0f:a3:39:e0:4b\"               \"-78\" \n",
       "  -78,2462000000,32   -78,2462000000,33   00:0f:a3:39:e2:10   -87,2437000000,31 \n",
       "       \"2462000000\"                 \"3\" \"00:0f:a3:39:e2:10\"               \"-87\" \n",
       "  -87,2437000000,32   -87,2437000000,33   02:64:fb:68:52:e6   -88,2447000000,11 \n",
       "       \"2437000000\"                 \"3\" \"02:64:fb:68:52:e6\"               \"-88\" \n",
       "  -88,2447000000,12   -88,2447000000,13   02:00:42:55:31:00   -84,2457000000,11 \n",
       "       \"2447000000\"                 \"1\" \"02:00:42:55:31:00\"               \"-84\" \n",
       "  -84,2457000000,12   -84,2457000000,13 \n",
       "       \"2457000000\"                 \"1\" "
      ]
     },
     "metadata": {},
     "output_type": "display_data"
    }
   ],
   "source": [
    "strsplit(txt[4], \";\")[[1]]\n",
    "\n",
    "unlist(lapply(strsplit(txt[4], \";\")[[1]],\n",
    "              function(x)\n",
    "                sapply(strsplit(x, \"=\")[[1]], strsplit, \",\")))"
   ]
  },
  {
   "cell_type": "code",
   "execution_count": 5,
   "metadata": {},
   "outputs": [
    {
     "data": {
      "text/html": [
       "<ol class=list-inline>\n",
       "\t<li>'t'</li>\n",
       "\t<li>'1139643118358'</li>\n",
       "\t<li>'id'</li>\n",
       "\t<li>'00:02:2D:21:0F:33'</li>\n",
       "\t<li>'pos'</li>\n",
       "\t<li>'0.0'</li>\n",
       "\t<li>'0.0'</li>\n",
       "\t<li>'0.0'</li>\n",
       "\t<li>'degree'</li>\n",
       "\t<li>'0.0'</li>\n",
       "</ol>\n"
      ],
      "text/latex": [
       "\\begin{enumerate*}\n",
       "\\item 't'\n",
       "\\item '1139643118358'\n",
       "\\item 'id'\n",
       "\\item '00:02:2D:21:0F:33'\n",
       "\\item 'pos'\n",
       "\\item '0.0'\n",
       "\\item '0.0'\n",
       "\\item '0.0'\n",
       "\\item 'degree'\n",
       "\\item '0.0'\n",
       "\\end{enumerate*}\n"
      ],
      "text/markdown": [
       "1. 't'\n",
       "2. '1139643118358'\n",
       "3. 'id'\n",
       "4. '00:02:2D:21:0F:33'\n",
       "5. 'pos'\n",
       "6. '0.0'\n",
       "7. '0.0'\n",
       "8. '0.0'\n",
       "9. 'degree'\n",
       "10. '0.0'\n",
       "\n",
       "\n"
      ],
      "text/plain": [
       " [1] \"t\"                 \"1139643118358\"     \"id\"               \n",
       " [4] \"00:02:2D:21:0F:33\" \"pos\"               \"0.0\"              \n",
       " [7] \"0.0\"               \"0.0\"               \"degree\"           \n",
       "[10] \"0.0\"              "
      ]
     },
     "metadata": {},
     "output_type": "display_data"
    },
    {
     "data": {
      "text/html": [
       "<ol class=list-inline>\n",
       "\t<li>'1139643118358'</li>\n",
       "\t<li>'00:02:2D:21:0F:33'</li>\n",
       "\t<li>'0.0'</li>\n",
       "\t<li>'0.0'</li>\n",
       "\t<li>'0.0'</li>\n",
       "\t<li>'0.0'</li>\n",
       "</ol>\n"
      ],
      "text/latex": [
       "\\begin{enumerate*}\n",
       "\\item '1139643118358'\n",
       "\\item '00:02:2D:21:0F:33'\n",
       "\\item '0.0'\n",
       "\\item '0.0'\n",
       "\\item '0.0'\n",
       "\\item '0.0'\n",
       "\\end{enumerate*}\n"
      ],
      "text/markdown": [
       "1. '1139643118358'\n",
       "2. '00:02:2D:21:0F:33'\n",
       "3. '0.0'\n",
       "4. '0.0'\n",
       "5. '0.0'\n",
       "6. '0.0'\n",
       "\n",
       "\n"
      ],
      "text/plain": [
       "[1] \"1139643118358\"     \"00:02:2D:21:0F:33\" \"0.0\"              \n",
       "[4] \"0.0\"               \"0.0\"               \"0.0\"              "
      ]
     },
     "metadata": {},
     "output_type": "display_data"
    },
    {
     "data": {
      "text/html": [
       "<ol class=list-inline>\n",
       "\t<li>'00:14:bf:b1:97:8a'</li>\n",
       "\t<li>'-38'</li>\n",
       "\t<li>'2437000000'</li>\n",
       "\t<li>'3'</li>\n",
       "\t<li>'00:14:bf:b1:97:90'</li>\n",
       "\t<li>'-56'</li>\n",
       "\t<li>'2427000000'</li>\n",
       "\t<li>'3'</li>\n",
       "\t<li>'00:0f:a3:39:e1:c0'</li>\n",
       "\t<li>'-53'</li>\n",
       "\t<li>'2462000000'</li>\n",
       "\t<li>'3'</li>\n",
       "\t<li>'00:14:bf:b1:97:8d'</li>\n",
       "\t<li>'-65'</li>\n",
       "\t<li>'2442000000'</li>\n",
       "\t<li>'3'</li>\n",
       "\t<li>'00:14:bf:b1:97:81'</li>\n",
       "\t<li>'-65'</li>\n",
       "\t<li>'2422000000'</li>\n",
       "\t<li>'3'</li>\n",
       "\t<li>'00:14:bf:3b:c7:c6'</li>\n",
       "\t<li>'-66'</li>\n",
       "\t<li>'2432000000'</li>\n",
       "\t<li>'3'</li>\n",
       "\t<li>'00:0f:a3:39:dd:cd'</li>\n",
       "\t<li>'-75'</li>\n",
       "\t<li>'2412000000'</li>\n",
       "\t<li>'3'</li>\n",
       "\t<li>'00:0f:a3:39:e0:4b'</li>\n",
       "\t<li>'-78'</li>\n",
       "\t<li>'2462000000'</li>\n",
       "\t<li>'3'</li>\n",
       "\t<li>'00:0f:a3:39:e2:10'</li>\n",
       "\t<li>'-87'</li>\n",
       "\t<li>'2437000000'</li>\n",
       "\t<li>'3'</li>\n",
       "\t<li>'02:64:fb:68:52:e6'</li>\n",
       "\t<li>'-88'</li>\n",
       "\t<li>'2447000000'</li>\n",
       "\t<li>'1'</li>\n",
       "\t<li>'02:00:42:55:31:00'</li>\n",
       "\t<li>'-84'</li>\n",
       "\t<li>'2457000000'</li>\n",
       "\t<li>'1'</li>\n",
       "</ol>\n"
      ],
      "text/latex": [
       "\\begin{enumerate*}\n",
       "\\item '00:14:bf:b1:97:8a'\n",
       "\\item '-38'\n",
       "\\item '2437000000'\n",
       "\\item '3'\n",
       "\\item '00:14:bf:b1:97:90'\n",
       "\\item '-56'\n",
       "\\item '2427000000'\n",
       "\\item '3'\n",
       "\\item '00:0f:a3:39:e1:c0'\n",
       "\\item '-53'\n",
       "\\item '2462000000'\n",
       "\\item '3'\n",
       "\\item '00:14:bf:b1:97:8d'\n",
       "\\item '-65'\n",
       "\\item '2442000000'\n",
       "\\item '3'\n",
       "\\item '00:14:bf:b1:97:81'\n",
       "\\item '-65'\n",
       "\\item '2422000000'\n",
       "\\item '3'\n",
       "\\item '00:14:bf:3b:c7:c6'\n",
       "\\item '-66'\n",
       "\\item '2432000000'\n",
       "\\item '3'\n",
       "\\item '00:0f:a3:39:dd:cd'\n",
       "\\item '-75'\n",
       "\\item '2412000000'\n",
       "\\item '3'\n",
       "\\item '00:0f:a3:39:e0:4b'\n",
       "\\item '-78'\n",
       "\\item '2462000000'\n",
       "\\item '3'\n",
       "\\item '00:0f:a3:39:e2:10'\n",
       "\\item '-87'\n",
       "\\item '2437000000'\n",
       "\\item '3'\n",
       "\\item '02:64:fb:68:52:e6'\n",
       "\\item '-88'\n",
       "\\item '2447000000'\n",
       "\\item '1'\n",
       "\\item '02:00:42:55:31:00'\n",
       "\\item '-84'\n",
       "\\item '2457000000'\n",
       "\\item '1'\n",
       "\\end{enumerate*}\n"
      ],
      "text/markdown": [
       "1. '00:14:bf:b1:97:8a'\n",
       "2. '-38'\n",
       "3. '2437000000'\n",
       "4. '3'\n",
       "5. '00:14:bf:b1:97:90'\n",
       "6. '-56'\n",
       "7. '2427000000'\n",
       "8. '3'\n",
       "9. '00:0f:a3:39:e1:c0'\n",
       "10. '-53'\n",
       "11. '2462000000'\n",
       "12. '3'\n",
       "13. '00:14:bf:b1:97:8d'\n",
       "14. '-65'\n",
       "15. '2442000000'\n",
       "16. '3'\n",
       "17. '00:14:bf:b1:97:81'\n",
       "18. '-65'\n",
       "19. '2422000000'\n",
       "20. '3'\n",
       "21. '00:14:bf:3b:c7:c6'\n",
       "22. '-66'\n",
       "23. '2432000000'\n",
       "24. '3'\n",
       "25. '00:0f:a3:39:dd:cd'\n",
       "26. '-75'\n",
       "27. '2412000000'\n",
       "28. '3'\n",
       "29. '00:0f:a3:39:e0:4b'\n",
       "30. '-78'\n",
       "31. '2462000000'\n",
       "32. '3'\n",
       "33. '00:0f:a3:39:e2:10'\n",
       "34. '-87'\n",
       "35. '2437000000'\n",
       "36. '3'\n",
       "37. '02:64:fb:68:52:e6'\n",
       "38. '-88'\n",
       "39. '2447000000'\n",
       "40. '1'\n",
       "41. '02:00:42:55:31:00'\n",
       "42. '-84'\n",
       "43. '2457000000'\n",
       "44. '1'\n",
       "\n",
       "\n"
      ],
      "text/plain": [
       " [1] \"00:14:bf:b1:97:8a\" \"-38\"               \"2437000000\"       \n",
       " [4] \"3\"                 \"00:14:bf:b1:97:90\" \"-56\"              \n",
       " [7] \"2427000000\"        \"3\"                 \"00:0f:a3:39:e1:c0\"\n",
       "[10] \"-53\"               \"2462000000\"        \"3\"                \n",
       "[13] \"00:14:bf:b1:97:8d\" \"-65\"               \"2442000000\"       \n",
       "[16] \"3\"                 \"00:14:bf:b1:97:81\" \"-65\"              \n",
       "[19] \"2422000000\"        \"3\"                 \"00:14:bf:3b:c7:c6\"\n",
       "[22] \"-66\"               \"2432000000\"        \"3\"                \n",
       "[25] \"00:0f:a3:39:dd:cd\" \"-75\"               \"2412000000\"       \n",
       "[28] \"3\"                 \"00:0f:a3:39:e0:4b\" \"-78\"              \n",
       "[31] \"2462000000\"        \"3\"                 \"00:0f:a3:39:e2:10\"\n",
       "[34] \"-87\"               \"2437000000\"        \"3\"                \n",
       "[37] \"02:64:fb:68:52:e6\" \"-88\"               \"2447000000\"       \n",
       "[40] \"1\"                 \"02:00:42:55:31:00\" \"-84\"              \n",
       "[43] \"2457000000\"        \"1\"                "
      ]
     },
     "metadata": {},
     "output_type": "display_data"
    }
   ],
   "source": [
    "tokens = strsplit(txt[4], \"[;=,]\")[[1]]\n",
    "tokens[1:10]\n",
    "tokens[c(2, 4, 6:8, 10)]\n",
    "tokens[ - (1:10)]"
   ]
  },
  {
   "cell_type": "code",
   "execution_count": 7,
   "metadata": {},
   "outputs": [
    {
     "data": {
      "text/html": [
       "<ol class=list-inline>\n",
       "\t<li>11</li>\n",
       "\t<li>10</li>\n",
       "</ol>\n"
      ],
      "text/latex": [
       "\\begin{enumerate*}\n",
       "\\item 11\n",
       "\\item 10\n",
       "\\end{enumerate*}\n"
      ],
      "text/markdown": [
       "1. 11\n",
       "2. 10\n",
       "\n",
       "\n"
      ],
      "text/plain": [
       "[1] 11 10"
      ]
     },
     "metadata": {},
     "output_type": "display_data"
    }
   ],
   "source": [
    "tmp = matrix(tokens[ - (1:10) ], ncol = 4, byrow = TRUE)\n",
    "mat = cbind(matrix(tokens[c(2, 4, 6:8, 10)], nrow = nrow(tmp),\n",
    "                   ncol = 6, byrow = TRUE),\n",
    "            tmp)\n",
    "dim(mat)"
   ]
  },
  {
   "cell_type": "code",
   "execution_count": 8,
   "metadata": {},
   "outputs": [],
   "source": [
    "processLine = \n",
    "  function(x) \n",
    "  { \n",
    "    tokens = strsplit(x, \"[;=,]\")[[1]]\n",
    "    \n",
    "    if (length(tokens) == 10)\n",
    "      return(NULL)\n",
    "    \n",
    "    tmp = matrix(tokens[ - (1:10)], ncol = 4, byrow = TRUE) \n",
    "    cbind(matrix(tokens[c(2, 4, 6:8, 10)], nrow = nrow(tmp),\n",
    "                 ncol = 6, byrow = TRUE), tmp) }"
   ]
  },
  {
   "cell_type": "code",
   "execution_count": 9,
   "metadata": {},
   "outputs": [
    {
     "data": {
      "text/html": [
       "<ol class=list-inline>\n",
       "\t<li>11</li>\n",
       "\t<li>10</li>\n",
       "\t<li>10</li>\n",
       "\t<li>11</li>\n",
       "\t<li>9</li>\n",
       "\t<li>10</li>\n",
       "\t<li>9</li>\n",
       "\t<li>9</li>\n",
       "\t<li>10</li>\n",
       "\t<li>11</li>\n",
       "\t<li>11</li>\n",
       "\t<li>9</li>\n",
       "\t<li>9</li>\n",
       "\t<li>9</li>\n",
       "\t<li>8</li>\n",
       "\t<li>10</li>\n",
       "\t<li>14</li>\n",
       "</ol>\n"
      ],
      "text/latex": [
       "\\begin{enumerate*}\n",
       "\\item 11\n",
       "\\item 10\n",
       "\\item 10\n",
       "\\item 11\n",
       "\\item 9\n",
       "\\item 10\n",
       "\\item 9\n",
       "\\item 9\n",
       "\\item 10\n",
       "\\item 11\n",
       "\\item 11\n",
       "\\item 9\n",
       "\\item 9\n",
       "\\item 9\n",
       "\\item 8\n",
       "\\item 10\n",
       "\\item 14\n",
       "\\end{enumerate*}\n"
      ],
      "text/markdown": [
       "1. 11\n",
       "2. 10\n",
       "3. 10\n",
       "4. 11\n",
       "5. 9\n",
       "6. 10\n",
       "7. 9\n",
       "8. 9\n",
       "9. 10\n",
       "10. 11\n",
       "11. 11\n",
       "12. 9\n",
       "13. 9\n",
       "14. 9\n",
       "15. 8\n",
       "16. 10\n",
       "17. 14\n",
       "\n",
       "\n"
      ],
      "text/plain": [
       " [1] 11 10 10 11  9 10  9  9 10 11 11  9  9  9  8 10 14"
      ]
     },
     "metadata": {},
     "output_type": "display_data"
    },
    {
     "data": {
      "text/html": [
       "<ol class=list-inline>\n",
       "\t<li>170</li>\n",
       "\t<li>10</li>\n",
       "</ol>\n"
      ],
      "text/latex": [
       "\\begin{enumerate*}\n",
       "\\item 170\n",
       "\\item 10\n",
       "\\end{enumerate*}\n"
      ],
      "text/markdown": [
       "1. 170\n",
       "2. 10\n",
       "\n",
       "\n"
      ],
      "text/plain": [
       "[1] 170  10"
      ]
     },
     "metadata": {},
     "output_type": "display_data"
    }
   ],
   "source": [
    "tmp = lapply(txt[4:20], processLine)\n",
    "sapply(tmp, nrow)\n",
    "\n",
    "offline = as.data.frame(do.call(\"rbind\", tmp))\n",
    "dim(offline)"
   ]
  },
  {
   "cell_type": "code",
   "execution_count": 10,
   "metadata": {},
   "outputs": [
    {
     "data": {
      "text/html": [
       "<ol class=list-inline>\n",
       "\t<li>1181628</li>\n",
       "\t<li>10</li>\n",
       "</ol>\n"
      ],
      "text/latex": [
       "\\begin{enumerate*}\n",
       "\\item 1181628\n",
       "\\item 10\n",
       "\\end{enumerate*}\n"
      ],
      "text/markdown": [
       "1. 1181628\n",
       "2. 10\n",
       "\n",
       "\n"
      ],
      "text/plain": [
       "[1] 1181628      10"
      ]
     },
     "metadata": {},
     "output_type": "display_data"
    }
   ],
   "source": [
    "lines = txt[ substr(txt, 1, 1) != \"#\" ]\n",
    "tmp = lapply(lines, processLine)\n",
    "offline = as.data.frame(do.call(\"rbind\", tmp),\n",
    "                        stringsAsFactors = FALSE)\n",
    "dim(offline)"
   ]
  },
  {
   "cell_type": "code",
   "execution_count": 12,
   "metadata": {},
   "outputs": [],
   "source": [
    "names(offline) = c(\"time\", \"scanMac\", \"posX\", \"posY\", \"posZ\", \"orientation\", \"mac\", \"signal\", \"channel\", \"type\")\n",
    "\n",
    "numVars = c(\"time\", \"posX\", \"posY\", \"posZ\",\n",
    "            \"orientation\", \"signal\")\n",
    "offline[ numVars ] = lapply(offline[ numVars ], as.numeric)"
   ]
  },
  {
   "cell_type": "code",
   "execution_count": 18,
   "metadata": {},
   "outputs": [
    {
     "data": {
      "text/html": [
       "<ol class=list-inline>\n",
       "\t<li>0</li>\n",
       "\t<li>10</li>\n",
       "</ol>\n"
      ],
      "text/latex": [
       "\\begin{enumerate*}\n",
       "\\item 0\n",
       "\\item 10\n",
       "\\end{enumerate*}\n"
      ],
      "text/markdown": [
       "1. 0\n",
       "2. 10\n",
       "\n",
       "\n"
      ],
      "text/plain": [
       "[1]  0 10"
      ]
     },
     "metadata": {},
     "output_type": "display_data"
    }
   ],
   "source": [
    "offline = offline[ offline$type == \"3\", ]\n",
    "offline = offline[ , \"type\" != names(offline) ]\n",
    "dim(offline)"
   ]
  },
  {
   "cell_type": "code",
   "execution_count": 19,
   "metadata": {},
   "outputs": [
    {
     "ename": "ERROR",
     "evalue": "Error in Ops.POSIXt(offline$time, 1000): '/' not defined for \"POSIXt\" objects\n",
     "output_type": "error",
     "traceback": [
      "Error in Ops.POSIXt(offline$time, 1000): '/' not defined for \"POSIXt\" objects\nTraceback:\n",
      "1. Ops.POSIXt(offline$time, 1000)",
      "2. stop(gettextf(\"'%s' not defined for \\\"POSIXt\\\" objects\", .Generic), \n .     domain = NA)"
     ]
    }
   ],
   "source": [
    "offline$rawTime = offline$time\n",
    "offline$time = offline$time/1000\n",
    "class(offline$time) = c(\"POSIXt\", \"POSIXct\")"
   ]
  },
  {
   "cell_type": "code",
   "execution_count": 20,
   "metadata": {},
   "outputs": [
    {
     "data": {
      "text/html": [
       "<dl class=dl-horizontal>\n",
       "\t<dt>time1</dt>\n",
       "\t\t<dd>'POSIXt'</dd>\n",
       "\t<dt>time2</dt>\n",
       "\t\t<dd>'POSIXct'</dd>\n",
       "\t<dt>scanMac</dt>\n",
       "\t\t<dd>'character'</dd>\n",
       "\t<dt>posX</dt>\n",
       "\t\t<dd>'numeric'</dd>\n",
       "\t<dt>posY</dt>\n",
       "\t\t<dd>'numeric'</dd>\n",
       "\t<dt>posZ</dt>\n",
       "\t\t<dd>'numeric'</dd>\n",
       "\t<dt>orientation</dt>\n",
       "\t\t<dd>'numeric'</dd>\n",
       "\t<dt>mac</dt>\n",
       "\t\t<dd>'character'</dd>\n",
       "\t<dt>signal</dt>\n",
       "\t\t<dd>'numeric'</dd>\n",
       "\t<dt>channel</dt>\n",
       "\t\t<dd>'character'</dd>\n",
       "\t<dt>rawTime1</dt>\n",
       "\t\t<dd>'POSIXt'</dd>\n",
       "\t<dt>rawTime2</dt>\n",
       "\t\t<dd>'POSIXct'</dd>\n",
       "</dl>\n"
      ],
      "text/latex": [
       "\\begin{description*}\n",
       "\\item[time1] 'POSIXt'\n",
       "\\item[time2] 'POSIXct'\n",
       "\\item[scanMac] 'character'\n",
       "\\item[posX] 'numeric'\n",
       "\\item[posY] 'numeric'\n",
       "\\item[posZ] 'numeric'\n",
       "\\item[orientation] 'numeric'\n",
       "\\item[mac] 'character'\n",
       "\\item[signal] 'numeric'\n",
       "\\item[channel] 'character'\n",
       "\\item[rawTime1] 'POSIXt'\n",
       "\\item[rawTime2] 'POSIXct'\n",
       "\\end{description*}\n"
      ],
      "text/markdown": [
       "time1\n",
       ":   'POSIXt'time2\n",
       ":   'POSIXct'scanMac\n",
       ":   'character'posX\n",
       ":   'numeric'posY\n",
       ":   'numeric'posZ\n",
       ":   'numeric'orientation\n",
       ":   'numeric'mac\n",
       ":   'character'signal\n",
       ":   'numeric'channel\n",
       ":   'character'rawTime1\n",
       ":   'POSIXt'rawTime2\n",
       ":   'POSIXct'\n",
       "\n"
      ],
      "text/plain": [
       "      time1       time2     scanMac        posX        posY        posZ \n",
       "   \"POSIXt\"   \"POSIXct\" \"character\"   \"numeric\"   \"numeric\"   \"numeric\" \n",
       "orientation         mac      signal     channel    rawTime1    rawTime2 \n",
       "  \"numeric\" \"character\"   \"numeric\" \"character\"    \"POSIXt\"   \"POSIXct\" "
      ]
     },
     "metadata": {},
     "output_type": "display_data"
    },
    {
     "data": {
      "text/plain": [
       "      time         posX          posY          posZ      orientation \n",
       " Min.   :NA   Min.   : NA   Min.   : NA   Min.   : NA   Min.   : NA  \n",
       " 1st Qu.:NA   1st Qu.: NA   1st Qu.: NA   1st Qu.: NA   1st Qu.: NA  \n",
       " Median :NA   Median : NA   Median : NA   Median : NA   Median : NA  \n",
       " Mean   :NA   Mean   :NaN   Mean   :NaN   Mean   :NaN   Mean   :NaN  \n",
       " 3rd Qu.:NA   3rd Qu.: NA   3rd Qu.: NA   3rd Qu.: NA   3rd Qu.: NA  \n",
       " Max.   :NA   Max.   : NA   Max.   : NA   Max.   : NA   Max.   : NA  \n",
       "     signal   \n",
       " Min.   : NA  \n",
       " 1st Qu.: NA  \n",
       " Median : NA  \n",
       " Mean   :NaN  \n",
       " 3rd Qu.: NA  \n",
       " Max.   : NA  "
      ]
     },
     "metadata": {},
     "output_type": "display_data"
    }
   ],
   "source": [
    "unlist(lapply(offline, class))\n",
    "summary(offline[, numVars])"
   ]
  },
  {
   "cell_type": "code",
   "execution_count": 21,
   "metadata": {},
   "outputs": [
    {
     "data": {
      "text/plain": [
       "        Length Class  Mode   \n",
       "mac     0      factor numeric\n",
       "channel 0      factor numeric\n",
       "scanMac 0      factor numeric"
      ]
     },
     "metadata": {},
     "output_type": "display_data"
    }
   ],
   "source": [
    "summary(sapply(offline[ , c(\"mac\", \"channel\", \"scanMac\")],\n",
    "               as.factor))"
   ]
  },
  {
   "cell_type": "code",
   "execution_count": null,
   "metadata": {},
   "outputs": [],
   "source": []
  }
 ],
 "metadata": {
  "kernelspec": {
   "display_name": "R",
   "language": "R",
   "name": "ir"
  },
  "language_info": {
   "codemirror_mode": "r",
   "file_extension": ".r",
   "mimetype": "text/x-r-source",
   "name": "R",
   "pygments_lexer": "r",
   "version": "3.4.3"
  }
 },
 "nbformat": 4,
 "nbformat_minor": 2
}
